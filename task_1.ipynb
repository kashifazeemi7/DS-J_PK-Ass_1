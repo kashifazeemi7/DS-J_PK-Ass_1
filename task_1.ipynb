{
 "cells": [
  {
   "cell_type": "markdown",
   "metadata": {},
   "source": [
    "#### Question 1:"
   ]
  },
  {
   "cell_type": "code",
   "execution_count": 1,
   "metadata": {},
   "outputs": [
    {
     "name": "stdout",
     "output_type": "stream",
     "text": [
      "Twinkle, twinkle, little star,\n",
      "\t How I wonder what you are!\n",
      "\t\t Up above the world so high,\n",
      "\t\t Like a diamond in the sky.\n",
      "Twinkle, twinkle, little star,\n",
      "\t How I wonder what you are\n"
     ]
    }
   ],
   "source": [
    "print('Twinkle, twinkle, little star,')\n",
    "print('\\t How I wonder what you are!')\n",
    "\n",
    "print('\\t\\t Up above the world so high,')\n",
    "print('\\t\\t Like a diamond in the sky.')\n",
    "\n",
    "print('Twinkle, twinkle, little star,')\n",
    "print('\\t How I wonder what you are')"
   ]
  },
  {
   "cell_type": "markdown",
   "metadata": {},
   "source": [
    "#### Question 2:"
   ]
  },
  {
   "cell_type": "code",
   "execution_count": 2,
   "metadata": {},
   "outputs": [
    {
     "name": "stdout",
     "output_type": "stream",
     "text": [
      "current python version: 3.10.1\n"
     ]
    }
   ],
   "source": [
    "from platform import python_version\n",
    "print('current python version:',python_version())"
   ]
  },
  {
   "cell_type": "markdown",
   "metadata": {},
   "source": [
    "#### Question 3:"
   ]
  },
  {
   "cell_type": "code",
   "execution_count": 3,
   "metadata": {},
   "outputs": [
    {
     "name": "stdout",
     "output_type": "stream",
     "text": [
      "01/01/2022, 22:49:51\n"
     ]
    }
   ],
   "source": [
    "import time\n",
    "my_time = time.localtime() # get struct_time\n",
    "time_str = time.strftime(\"%m/%d/%Y, %H:%M:%S\", my_time)\n",
    "print(time_str)"
   ]
  },
  {
   "cell_type": "markdown",
   "metadata": {},
   "source": [
    "#### Question 4:"
   ]
  },
  {
   "cell_type": "code",
   "execution_count": 4,
   "metadata": {},
   "outputs": [
    {
     "name": "stdout",
     "output_type": "stream",
     "text": [
      "Area: 1385\n"
     ]
    }
   ],
   "source": [
    "import math\n",
    "rad = float(input('Enter rad of circ:'))\n",
    "A = math.pi * (rad**2)\n",
    "print('Area:',round(A))"
   ]
  },
  {
   "cell_type": "markdown",
   "metadata": {},
   "source": [
    "#### Question 5:"
   ]
  },
  {
   "cell_type": "code",
   "execution_count": 5,
   "metadata": {},
   "outputs": [
    {
     "name": "stdout",
     "output_type": "stream",
     "text": [
      "Noor Kashif\n"
     ]
    }
   ],
   "source": [
    "lst0 = ['first','last']\n",
    "lst1 = list()\n",
    "for a in lst0:\n",
    "  name = input('enter your {} name:'.format(a))\n",
    "  lst1.append(name)\n",
    "lst1.reverse()\n",
    "print(' '.join(lst1))"
   ]
  },
  {
   "cell_type": "markdown",
   "metadata": {},
   "source": [
    "#### Question 6:"
   ]
  },
  {
   "cell_type": "code",
   "execution_count": 6,
   "metadata": {},
   "outputs": [
    {
     "name": "stdout",
     "output_type": "stream",
     "text": [
      "sum: 77\n"
     ]
    }
   ],
   "source": [
    "lst0 = ['1st','2nd']\n",
    "sum = 0\n",
    "for a in lst0:\n",
    "  num = int(input('enter your {} num:'.format(a)))\n",
    "  sum += num\n",
    "print('sum:',sum)"
   ]
  }
 ],
 "metadata": {
  "interpreter": {
   "hash": "9bf2ca0f4a7adc3ce2f237ca763c1538d3ef289a4e7face3612a01cdae9f6807"
  },
  "kernelspec": {
   "display_name": "Python 3.10.1 64-bit",
   "language": "python",
   "name": "python3"
  },
  "language_info": {
   "codemirror_mode": {
    "name": "ipython",
    "version": 3
   },
   "file_extension": ".py",
   "mimetype": "text/x-python",
   "name": "python",
   "nbconvert_exporter": "python",
   "pygments_lexer": "ipython3",
   "version": "3.10.1"
  },
  "orig_nbformat": 4
 },
 "nbformat": 4,
 "nbformat_minor": 2
}
